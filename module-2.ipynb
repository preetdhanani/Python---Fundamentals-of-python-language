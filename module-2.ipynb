{
 "cells": [
  {
   "cell_type": "code",
   "execution_count": null,
   "id": "68db9469",
   "metadata": {},
   "outputs": [],
   "source": [
    "# 0 , + , -  identifier\n",
    "\n",
    "a= int(input())\n",
    "\n",
    "if a>=0:\n",
    "    if a==0:\n",
    "        print(\"zero\")\n",
    "    else:\n",
    "        print(\"positive\")\n",
    "else:\n",
    "    print(\"negetive\")"
   ]
  },
  {
   "cell_type": "code",
   "execution_count": null,
   "id": "c2eb54c1",
   "metadata": {},
   "outputs": [],
   "source": [
    "# Facctorial\n",
    "\n",
    "b = int(input())\n",
    "a=1\n",
    "for i in range(b,0,-1):\n",
    "    a=a*i\n",
    "print(a)"
   ]
  },
  {
   "cell_type": "code",
   "execution_count": null,
   "id": "36cec60b",
   "metadata": {},
   "outputs": [],
   "source": [
    "# fibonacci\n",
    "\n",
    "c = int(input())\n",
    "a, b=0, 1\n",
    "if c<=0:\n",
    "    print(\"invalid range\")\n",
    "if c>0:\n",
    "    if c==1:\n",
    "        print(a)\n",
    "    elif c==2:\n",
    "        print(a,\",\",b)\n",
    "    else:\n",
    "        print(a,\",\",b,end=\" , \")\n",
    "        for i in range(c-2):\n",
    "            c=a+b\n",
    "            a=b\n",
    "            b=c\n",
    "            print(c,end=\" , \")\n",
    "            \n",
    "            \n",
    "        "
   ]
  },
  {
   "cell_type": "code",
   "execution_count": null,
   "id": "511dae6c",
   "metadata": {},
   "outputs": [],
   "source": [
    "# Memory"
   ]
  },
  {
   "cell_type": "code",
   "execution_count": null,
   "id": "04399d6e",
   "metadata": {},
   "outputs": [],
   "source": [
    "# Continue\n",
    "\n",
    "# The purpose of continue in python is to continue any loop or function ,\n",
    "# for use bypass perticular value"
   ]
  },
  {
   "cell_type": "code",
   "execution_count": null,
   "id": "07700ad1",
   "metadata": {},
   "outputs": [],
   "source": [
    "# Swap values with temp variable\n",
    "\n",
    "a, b=5, 3\n",
    "print(\"a= \",a,\"b= \",b)\n",
    "print(\"Swap values with temp variable\")\n",
    "temp=a\n",
    "a=b\n",
    "b=temp\n",
    "print(\"a= \",a,\"b= \",b)\n",
    "\n",
    "\n",
    "#Swap values"
   ]
  },
  {
   "cell_type": "code",
   "execution_count": null,
   "id": "6e3c3dd5",
   "metadata": {},
   "outputs": [],
   "source": [
    "#Swap values without temp variable\n",
    "\n",
    "a, b =1, 4\n",
    "print(\"a= \",a,\"b= \",b)\n",
    "print(\"Swap values without temp variable \")\n",
    "a, b = b, a\n",
    "print(\"a= \",a,\"b= \",b)"
   ]
  },
  {
   "cell_type": "code",
   "execution_count": null,
   "id": "58cdfff5",
   "metadata": {},
   "outputs": [],
   "source": [
    "# Even , ODD\n",
    "\n",
    "d = int(input())\n",
    "if d%2==0:\n",
    "    print(d,\"id even number\")\n",
    "else:\n",
    "    print(d,\"is odd number\")"
   ]
  },
  {
   "cell_type": "code",
   "execution_count": null,
   "id": "873108c7",
   "metadata": {},
   "outputs": [],
   "source": [
    "e = (input())\n",
    "if e in ['a','e','i','o','u']:\n",
    "    print(e,\"is vowel\")\n",
    "else:\n",
    "    print(e,\"is not vowel\")"
   ]
  },
  {
   "cell_type": "code",
   "execution_count": null,
   "id": "6297fb67",
   "metadata": {},
   "outputs": [],
   "source": [
    "# SUM \n",
    "\n",
    "f=int(input())\n",
    "g=int(input())\n",
    "h=int(input())\n",
    "if f==g or g==h or h==f:\n",
    "    print(\"Sum is 0\")\n",
    "else:\n",
    "    print(\"Sum is\",f+g+h)"
   ]
  },
  {
   "cell_type": "code",
   "execution_count": null,
   "id": "32ae6a83",
   "metadata": {},
   "outputs": [],
   "source": [
    "# equal ,sum-diff 5\n",
    "\n",
    "i=int(input())\n",
    "j=int(input())\n",
    "if i==j or i+j==5 or i-j==5:\n",
    "    print(\"True\")\n",
    "else:\n",
    "    print(\"False\")"
   ]
  },
  {
   "cell_type": "code",
   "execution_count": null,
   "id": "15ddbbac",
   "metadata": {},
   "outputs": [],
   "source": [
    "k = int(input())\n",
    "sum=0\n",
    "if k>=0:\n",
    "    for i in range(1,k+1):\n",
    "        sum+=i\n",
    "    print(sum)\n",
    "else:\n",
    "    print(\"Enter positive number\")"
   ]
  },
  {
   "cell_type": "code",
   "execution_count": null,
   "id": "13eb784e",
   "metadata": {},
   "outputs": [],
   "source": [
    "print(\"Enter String value\")\n",
    "l = input()\n",
    "print(\"Lenth of string is \",len(l))\n"
   ]
  },
  {
   "cell_type": "code",
   "execution_count": null,
   "id": "3a9fadc3",
   "metadata": {},
   "outputs": [],
   "source": [
    "# count the number of characters\n",
    "\n",
    "m = input()\n",
    "d={}\n",
    "for i in range(len(m)):\n",
    "    if m[i] not in d.keys():\n",
    "        d[m[i]]=1\n",
    "    else:\n",
    "        d[m[i]]+=1\n",
    "       \n",
    "print(d)"
   ]
  },
  {
   "cell_type": "code",
   "execution_count": null,
   "id": "ee83afda",
   "metadata": {},
   "outputs": [],
   "source": [
    "#What are negative indexes and why are they used"
   ]
  },
  {
   "cell_type": "code",
   "execution_count": null,
   "id": "9dde2dc5",
   "metadata": {},
   "outputs": [],
   "source": [
    "# Negetive Index\n",
    "# use for traversing iterable from reverse manner(left to right)"
   ]
  },
  {
   "cell_type": "code",
   "execution_count": 10,
   "id": "2f552065",
   "metadata": {},
   "outputs": [
    {
     "name": "stdout",
     "output_type": "stream",
     "text": [
      "Enter String: opopopllk\n",
      "Enter sub string: op\n",
      "The occurance of op is 3 times\n"
     ]
    }
   ],
   "source": [
    "# Write a Python program to count occurrences of a substring in a string.\n",
    "string = input(\"Enter String: \")\n",
    "sub_str = input(\"Enter sub string: \")\n",
    "print(\"The occurance of\",sub_str,\"is\",string.count(sub_str),\"times\")"
   ]
  },
  {
   "cell_type": "code",
   "execution_count": 35,
   "id": "60df904d",
   "metadata": {},
   "outputs": [
    {
     "name": "stdout",
     "output_type": "stream",
     "text": [
      "Enter String: op op op op op po po \n",
      "{'op': 5, 'po': 2, '': 1}\n"
     ]
    }
   ],
   "source": [
    "#Write a Python program to count the occurrences of each word in a given sentence\n",
    "string = input(\"Enter String: \")\n",
    "m=string.split(\" \")\n",
    "d={}\n",
    "for i in range(len(m)):\n",
    "    if m[i] not in d.keys():\n",
    "        d[m[i]]=1\n",
    "    else:\n",
    "        d[m[i]]+=1\n",
    "       \n",
    "print(d)\n"
   ]
  },
  {
   "cell_type": "code",
   "execution_count": 64,
   "id": "7c092bba",
   "metadata": {},
   "outputs": [
    {
     "name": "stdout",
     "output_type": "stream",
     "text": [
      "Enter String: prit dhanani\n",
      "drit phanani\n"
     ]
    }
   ],
   "source": [
    "#Write a Python program to get a single string from two given strings, separated by a space and swap the first two characters of each string.\n",
    "string = input(\"Enter String: \")\n",
    "x=string.split(\" \")\n",
    "y=x[1][0:1]\n",
    "z=x[0][0:1]\n",
    "m=y+x[0][1:]\n",
    "n=z+(x[1][1:])\n",
    "print(\" \".join([m,n]))\n"
   ]
  },
  {
   "cell_type": "code",
   "execution_count": 68,
   "id": "4a1294ee",
   "metadata": {},
   "outputs": [
    {
     "name": "stdout",
     "output_type": "stream",
     "text": [
      "Enter String: playing\n",
      "playly\n"
     ]
    }
   ],
   "source": [
    "#Write a Python program to add 'ing' at the end of a given string (length should be at least 3). If the given string already ends with 'ing' then add 'ly' instead if the string length of the given string is less than 3, leave it unchanged\n",
    "\n",
    "string = input(\"Enter String: \")\n",
    "if len(string)>=3:\n",
    "    if string.endswith('ing'):\n",
    "        x=string.removesuffix('ing')\n",
    "        x+='ly'\n",
    "        print(x)\n",
    "    else:\n",
    "        string+='ing'\n",
    "        print(string)\n",
    "else:\n",
    "    print(string)\n"
   ]
  },
  {
   "cell_type": "code",
   "execution_count": 119,
   "id": "d6c37d83",
   "metadata": {},
   "outputs": [
    {
     "name": "stdout",
     "output_type": "stream",
     "text": [
      "Enter String: The Lyrics of the Song are not that poor\n",
      "The Lyrics of the Song are good\n"
     ]
    }
   ],
   "source": [
    "# Write a Python program to find the first appearance of the substring \n",
    "# 'not' and 'poor' from a given string, if 'not' follows the 'poor', replace the \n",
    "# whole 'not'...'poor' substring with 'good'. Return the resulting string.\n",
    "\n",
    "string = input(\"Enter String: \")\n",
    "p=string.index('poor')\n",
    "n=string.index('not')\n",
    "\n",
    "if n<p:\n",
    "    new=string.replace(string[n:p+4],\"good\")\n",
    "    print(new)\n",
    "else:\n",
    "    pass\n",
    "\n"
   ]
  },
  {
   "cell_type": "code",
   "execution_count": 155,
   "id": "95e3d86f",
   "metadata": {},
   "outputs": [
    {
     "name": "stdout",
     "output_type": "stream",
     "text": [
      "Enter String: hello hoe atr yur\n",
      "['hello', 'hoe', 'atr', 'yur']\n",
      "hello --> 5\n"
     ]
    }
   ],
   "source": [
    "# Write a Python function that takes a list of words and returns the length \n",
    "# of the longest one.\n",
    "\n",
    "string = input(\"Enter String: \")\n",
    "x=string.split(\" \")\n",
    "print(x)\n",
    "max=''\n",
    "for i in x:\n",
    "    \n",
    "    len(max)\n",
    "    if len(i)>len(max):\n",
    "        max=i\n",
    "print(max ,\"-->\",len(max))\n",
    "    \n"
   ]
  },
  {
   "cell_type": "code",
   "execution_count": 161,
   "id": "6d4aeac4",
   "metadata": {},
   "outputs": [
    {
     "name": "stdout",
     "output_type": "stream",
     "text": [
      "Enter String: preetpre\n",
      "erpteerp\n"
     ]
    }
   ],
   "source": [
    "# Write a Python function to reverses a string if its length is a multiple of 4.\n",
    "\n",
    "string = input(\"Enter String: \")\n",
    "\n",
    "if len(string)%4==0:\n",
    "    string=string[::-1]\n",
    "else:\n",
    "    pass\n",
    "print(string)\n"
   ]
  },
  {
   "cell_type": "code",
   "execution_count": 181,
   "id": "e30e1a8f",
   "metadata": {},
   "outputs": [
    {
     "name": "stdout",
     "output_type": "stream",
     "text": [
      "Enter String: opo\n",
      "oppo\n"
     ]
    }
   ],
   "source": [
    "# Write a Python program to get a string made of the first 2 and the last \n",
    "# 2 chars from a given a string. If the string length is less than 2, return \n",
    "# instead of the empty string\n",
    "\n",
    "string = input(\"Enter String: \")\n",
    "if len(string)>2:\n",
    "    x= string[0:2] + string[-2::1]\n",
    "    print(x)\n",
    "else:\n",
    "    print(string)"
   ]
  },
  {
   "cell_type": "code",
   "execution_count": 201,
   "id": "7c99c853",
   "metadata": {},
   "outputs": [
    {
     "name": "stdout",
     "output_type": "stream",
     "text": [
      "Enter main String: reet\n",
      "Enter middle String: 123\n",
      "re123et\n"
     ]
    }
   ],
   "source": [
    "# Write a Python function to insert a string in the middle of a string.\n",
    "\n",
    "string = input(\"Enter main String: \")\n",
    "string_m = input(\"Enter middle String: \")\n",
    "\n",
    "mposi=int(len(string)/2)\n",
    "l=string[0:mposi]\n",
    "r=string[mposi:]\n",
    "ns=l+string_m+r\n",
    "print(ns)\n"
   ]
  },
  {
   "cell_type": "code",
   "execution_count": null,
   "id": "59e541e4",
   "metadata": {},
   "outputs": [],
   "source": []
  }
 ],
 "metadata": {
  "kernelspec": {
   "display_name": "Python 3 (ipykernel)",
   "language": "python",
   "name": "python3"
  },
  "language_info": {
   "codemirror_mode": {
    "name": "ipython",
    "version": 3
   },
   "file_extension": ".py",
   "mimetype": "text/x-python",
   "name": "python",
   "nbconvert_exporter": "python",
   "pygments_lexer": "ipython3",
   "version": "3.9.13"
  }
 },
 "nbformat": 4,
 "nbformat_minor": 5
}
