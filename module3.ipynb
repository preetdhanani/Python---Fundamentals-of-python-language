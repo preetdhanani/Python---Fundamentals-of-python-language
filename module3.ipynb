{
 "cells": [
  {
   "cell_type": "markdown",
   "id": "8a760f38",
   "metadata": {},
   "source": [
    "###### What is List? How will you reverse a list? \n",
    " "
   ]
  },
  {
   "cell_type": "code",
   "execution_count": 106,
   "id": "dd12904c",
   "metadata": {},
   "outputs": [
    {
     "name": "stdout",
     "output_type": "stream",
     "text": [
      "Normal  :- [1, 2, 3, 4, 5]\n",
      "Reverse :- [5, 4, 3, 2, 1] (using method 1)\n",
      "\n",
      "\n",
      "Reverse :- [5, 4, 3, 2, 1] (using method 2)\n",
      "\n",
      "\n",
      "Reverse :- [5, 4, 3, 2, 1] (using method 3)\n"
     ]
    }
   ],
   "source": [
    "# List is python datatype and it is denoted by [ ..... ] \n",
    "# It is collection of datatypes (List allowed all datatypes)\n",
    "# characteristics\n",
    "#     -> ordered \n",
    "#     -> indexed\n",
    "#     -> mutable\n",
    "\n",
    "# Reverse list\n",
    "list1 = [1,2,3,4,5]\n",
    "print(\"Normal  :- %s\"%list1)\n",
    "\n",
    "#method 1\n",
    "list1.reverse()\n",
    "print(\"Reverse :- %s (using method 1)\\n\\n\"%list1)\n",
    "\n",
    "#method 2\n",
    "list1 = [1,2,3,4,5]\n",
    "print(\"Reverse :- %s (using method 2)\\n\\n\"%list1[::-1])\n",
    "\n",
    "#method 3\n",
    "list2 = list(reversed(list1))\n",
    "print(\"Reverse :- %s (using method 3)\"%(list2))    "
   ]
  },
  {
   "cell_type": "markdown",
   "id": "fbc71b53",
   "metadata": {},
   "source": [
    "##### How will you remove last object from a list? \n",
    "Suppose list1 is [2, 33, 222, 14, and 25], what is list1 [-1]? \n",
    " "
   ]
  },
  {
   "cell_type": "code",
   "execution_count": 107,
   "id": "1d1638dd",
   "metadata": {},
   "outputs": [
    {
     "name": "stdout",
     "output_type": "stream",
     "text": [
      "[2, 33, 222, 14, 25]\n",
      "\n",
      "method 1 \n",
      "last element before removing :-  25\n",
      "last element after removed : -  14\n",
      "\n",
      "\n",
      " method 2\n",
      " \n",
      "last element before removing :-  25\n",
      "last element after removed : -  14\n"
     ]
    }
   ],
   "source": [
    "\n",
    "list1 = [2,33,222,14,25]\n",
    "print(list1)\n",
    "print(\"\\nmethod 1 \\nlast element before removing :- \",list1[-1])\n",
    "\n",
    "list1.remove(list1[-1])\n",
    "print(\"last element after removed : - \",list1[-1])\n",
    "\n",
    "print(\"\\n\\n method 2\")\n",
    "list1 = [2,33,222,14,25]\n",
    "print(\" \\nlast element before removing :- \",list1[-1])\n",
    "\n",
    "list1.pop()\n",
    "print(\"last element after removed : - \",list1[-1])"
   ]
  },
  {
   "cell_type": "markdown",
   "id": "7bc8ba54",
   "metadata": {},
   "source": [
    "##### Differentiate between append () and extend () methods? \n"
   ]
  },
  {
   "cell_type": "code",
   "execution_count": 108,
   "id": "a6c9f789",
   "metadata": {},
   "outputs": [],
   "source": [
    "# append :- \n",
    "#     append(item) :- item is added (whole) at the end of list\n",
    "\n",
    "# extend :- \n",
    "#     extend(item(iterable)) :- extend will added each element from iterable item at the end of \n",
    "#     list one by one\n",
    "        "
   ]
  },
  {
   "cell_type": "markdown",
   "id": "204400e9",
   "metadata": {},
   "source": [
    "##### Write a Python function to get the largest number, smallest num and sum of all from a list. \n"
   ]
  },
  {
   "cell_type": "code",
   "execution_count": 109,
   "id": "1ec80c67",
   "metadata": {},
   "outputs": [
    {
     "name": "stdout",
     "output_type": "stream",
     "text": [
      "[12, 42, 15, 94, 217, 40, 46, 66]\n",
      "\n",
      "Largest number :-  217\n",
      "\n",
      "smallest number :-  12\n",
      "\n",
      "sum of all number :-  532\n"
     ]
    }
   ],
   "source": [
    "lst = [12,42,15,94,217,40,46,66]\n",
    "print(lst)\n",
    "print(\"\\nLargest number :- \",max(lst))\n",
    "print(\"\\nsmallest number :- \",min(lst))\n",
    "print(\"\\nsum of all number :- \",sum(lst))"
   ]
  },
  {
   "cell_type": "markdown",
   "id": "19445f73",
   "metadata": {},
   "source": [
    "##### How will you compare two lists? \n"
   ]
  },
  {
   "cell_type": "code",
   "execution_count": 110,
   "id": "603500f0",
   "metadata": {},
   "outputs": [
    {
     "name": "stdout",
     "output_type": "stream",
     "text": [
      " both lists are same \n"
     ]
    }
   ],
   "source": [
    "lst_1 = [32,96,87,13,65,24,3,896,0]\n",
    "lst_2 = [32,96,87,13,65,24,3,896,0]\n",
    "\n",
    "if lst_1 == lst_2:\n",
    "    print(\" both lists are same \")\n",
    "else:\n",
    "    print(\"both lists are diffrent\")\n"
   ]
  },
  {
   "cell_type": "markdown",
   "id": "e0379428",
   "metadata": {},
   "source": [
    "##### Write a Python program to count the number of strings where the string length is 2 or more and the first and last character are same from a given list of strings. \n"
   ]
  },
  {
   "cell_type": "code",
   "execution_count": 111,
   "id": "6bdbf472",
   "metadata": {},
   "outputs": [
    {
     "name": "stdout",
     "output_type": "stream",
     "text": [
      "Enter the strings (saparated by space):- hello good moring \n",
      "Lists :-  ['hello', 'good', 'moring', '']\n",
      "\n",
      "\n",
      "\n",
      "count :-  0\n"
     ]
    }
   ],
   "source": [
    "lists = input(\"Enter the strings (saparated by space):- \").split(' ')\n",
    "\n",
    "print(\"Lists :- \",lists)\n",
    "\n",
    "print('\\n\\n')\n",
    "count = 0\n",
    "for item in lists:\n",
    "    if len(item) >= 2 and item[0]==item[-1]:\n",
    "        count+=1\n",
    "    \n",
    "print('count of strings where the string length is 2 or more and the first and last character are same :- ',count)\n"
   ]
  },
  {
   "cell_type": "markdown",
   "id": "7d153c81",
   "metadata": {},
   "source": [
    "##### Write a Python program to remove duplicates from a list. \n"
   ]
  },
  {
   "cell_type": "code",
   "execution_count": 112,
   "id": "101ac9ca",
   "metadata": {},
   "outputs": [
    {
     "name": "stdout",
     "output_type": "stream",
     "text": [
      "[1, 2, '1', 'a', 9, 50.4, 'bc']\n"
     ]
    }
   ],
   "source": [
    "lists = ['a','bc',9,1,2,2,1,50.4,'1']    \n",
    "print(list(set(lists)))\n",
    "    "
   ]
  },
  {
   "cell_type": "markdown",
   "id": "c45dc29b",
   "metadata": {},
   "source": [
    "##### Write a Python program to check a list is empty or not. \n"
   ]
  },
  {
   "cell_type": "code",
   "execution_count": 113,
   "id": "6defd5b4",
   "metadata": {},
   "outputs": [
    {
     "name": "stdout",
     "output_type": "stream",
     "text": [
      "List is Empty\n"
     ]
    }
   ],
   "source": [
    "list1 = []\n",
    "\n",
    "if list1:\n",
    "    print(\"list is not empty\")\n",
    "else:\n",
    "    print(\"List is Empty\")"
   ]
  },
  {
   "cell_type": "markdown",
   "id": "c6a5147c",
   "metadata": {},
   "source": [
    "##### Write a Python function that takes two lists and returns true if they have at least one common member. \n"
   ]
  },
  {
   "cell_type": "code",
   "execution_count": 114,
   "id": "986f1da5",
   "metadata": {},
   "outputs": [
    {
     "data": {
      "text/plain": [
       "False"
      ]
     },
     "execution_count": 114,
     "metadata": {},
     "output_type": "execute_result"
    }
   ],
   "source": [
    "list1 = [1,2,3,4,5]\n",
    "list2=[43,212,54,12,0]\n",
    "\n",
    "def check_common(list1:list,list2:list) -> bool:\n",
    "    for item in list1:\n",
    "        if list2.count(item) > 0:\n",
    "            return True\n",
    "    return False\n",
    "check_common(list1,list2)\n",
    "        "
   ]
  },
  {
   "cell_type": "markdown",
   "id": "4f0fa1cd",
   "metadata": {},
   "source": [
    "##### Write a Python program to generate and print a list of first and last 5 elements where the values are square of numbers between 1 and 30. \n"
   ]
  },
  {
   "cell_type": "code",
   "execution_count": 115,
   "id": "7047363e",
   "metadata": {},
   "outputs": [
    {
     "name": "stdout",
     "output_type": "stream",
     "text": [
      "[1, 4, 9, 16, 25, 676, 729, 784, 841, 900]\n"
     ]
    }
   ],
   "source": [
    "lst=[]\n",
    "for i in range(1,31):\n",
    "    lst.append(i**2)\n",
    "\n",
    "list_final = lst[:5] + lst[25:]\n",
    "\n",
    "\n",
    "print(list_final)\n",
    "\n",
    "#159\n"
   ]
  },
  {
   "cell_type": "markdown",
   "id": "1947c972",
   "metadata": {},
   "source": [
    "##### Write a Python function that takes a list and returns a new list with unique elements of the first list. \n"
   ]
  },
  {
   "cell_type": "code",
   "execution_count": 116,
   "id": "281bc7ea",
   "metadata": {},
   "outputs": [
    {
     "name": "stdout",
     "output_type": "stream",
     "text": [
      " all elements :-  [11, 10, 5, 17, 16, 1, 14, 8, 13, 10, 9, 8, 9, 11, 19, 20, 2, 11, 16, 15, 2, 7, 19, 9, 13]\n",
      " unique elements  :- [1, 2, 5, 7, 8, 9, 10, 11, 13, 14, 15, 16, 17, 19, 20]\n"
     ]
    }
   ],
   "source": [
    "list_all = [11, 10, 5, 17, 16, 1, 14, 8, 13, 10, 9, 8, 9, 11, 19, 20, 2, 11, 16, 15, 2, 7, 19, 9, 13]\n",
    "\n",
    "\n",
    "list_unq = list(set(list_all))\n",
    "\n",
    "print(\" all elements :- \",list_all)\n",
    "print(\" unique elements  :-\",list_unq)\n"
   ]
  },
  {
   "cell_type": "markdown",
   "id": "18b88850",
   "metadata": {},
   "source": [
    "##### Write a Python program to convert a list of characters into a string. \n"
   ]
  },
  {
   "cell_type": "code",
   "execution_count": 117,
   "id": "540b3c56",
   "metadata": {},
   "outputs": [
    {
     "name": "stdout",
     "output_type": "stream",
     "text": [
      "List :  ['a', 'p', 'p', 'l', 'e']\n",
      "String :  apple\n"
     ]
    }
   ],
   "source": [
    "list1 = ['a','p','p','l','e']\n",
    "\n",
    "string = \"\".join(list1)\n",
    "\n",
    "print(\"List : \",list1)\n",
    "print(\"String : \",string)\n"
   ]
  },
  {
   "cell_type": "markdown",
   "id": "ea522137",
   "metadata": {},
   "source": [
    "##### Write a Python program to select an item randomly from a list. \n",
    " "
   ]
  },
  {
   "cell_type": "code",
   "execution_count": 118,
   "id": "6f05d92c",
   "metadata": {},
   "outputs": [
    {
     "name": "stdout",
     "output_type": "stream",
     "text": [
      "2\n"
     ]
    }
   ],
   "source": [
    "import random\n",
    "s = [1,2,3,4]\n",
    "\n",
    "random = random.choice(s)\n",
    "\n",
    "print(random)"
   ]
  },
  {
   "cell_type": "markdown",
   "id": "a782193f",
   "metadata": {},
   "source": [
    "##### Write a Python program to find the second smallest number in a list. \n"
   ]
  },
  {
   "cell_type": "code",
   "execution_count": 119,
   "id": "dd483e12",
   "metadata": {},
   "outputs": [
    {
     "name": "stdout",
     "output_type": "stream",
     "text": [
      "Second largest number is :-  55465\n"
     ]
    }
   ],
   "source": [
    "list1 = [3,123,21,312,31,453,45,65,786,78,7,546345,345,23,55465,47,5]\n",
    "\n",
    "list1.remove(max(list1))\n",
    "second_highest = max(list1)\n",
    "print('Second largest number is :- ',second_highest)\n",
    "\n",
    "# another method\n",
    "# list1.sort()\n",
    "# second_highest = list1[-2]\n",
    "# print('Second largest number is :- ',second_highest)\n"
   ]
  },
  {
   "cell_type": "markdown",
   "id": "65c7274c",
   "metadata": {},
   "source": [
    "##### Write a Python program to get unique values from a list \n"
   ]
  },
  {
   "cell_type": "code",
   "execution_count": 120,
   "id": "0572a3b6",
   "metadata": {},
   "outputs": [
    {
     "name": "stdout",
     "output_type": "stream",
     "text": [
      "Unique Values are :-  [3, 4, 5, 6, 423435, 12, 23, 35234, 547, 34, 3234, 434, 54, 56, 456, 54345, 465, 234215, 234, 4345]\n"
     ]
    }
   ],
   "source": [
    "list1 = [12,3,434,23,54345,234215,6,547,56,35234,23,4345,5,465,4,423435,456,54,34,234,12,3234]\n",
    "\n",
    "print(\"Unique Values are :- \",list(set(list1)))"
   ]
  },
  {
   "cell_type": "markdown",
   "id": "9528a1f0",
   "metadata": {},
   "source": [
    "##### Write a Python program to check whether a list contains a sub list \n"
   ]
  },
  {
   "cell_type": "code",
   "execution_count": 121,
   "id": "5954d603",
   "metadata": {},
   "outputs": [
    {
     "name": "stdout",
     "output_type": "stream",
     "text": [
      "Given List does not contains sub list\n"
     ]
    }
   ],
   "source": [
    "list1=[1,2,'a',3.4,'sss',1,2,3,{2,4}]\n",
    "flag = False\n",
    "for i  in list1:\n",
    "    if type(i) == list:\n",
    "        flag = True\n",
    "        break\n",
    "if flag:\n",
    "    print(\"Given List contains sub list\")\n",
    "else:\n",
    "    print(\"Given List does not contains sub list\")\n",
    "        \n"
   ]
  },
  {
   "cell_type": "markdown",
   "id": "ae9d85f6",
   "metadata": {},
   "source": [
    "##### Write a Python program to split a list into different variables. \n"
   ]
  },
  {
   "cell_type": "code",
   "execution_count": 122,
   "id": "ee3550b7",
   "metadata": {},
   "outputs": [
    {
     "name": "stdout",
     "output_type": "stream",
     "text": [
      "1 2 3\n"
     ]
    }
   ],
   "source": [
    "lst = [1,2,3]\n",
    "\n",
    "a,b,c = lst\n",
    "\n",
    "print(a,b,c)"
   ]
  },
  {
   "cell_type": "markdown",
   "id": "f284349a",
   "metadata": {},
   "source": [
    "##### What is tuple? Difference between list and tuple. \n"
   ]
  },
  {
   "cell_type": "markdown",
   "id": "739448cd",
   "metadata": {},
   "source": [
    "* **tuple** is iterable,imutable is datatype in python, it can accept multuple datatype elements.\n",
    "   it is ordered and indexed type. because of imutable type we can perfrom a few operation on tuple like count(),index()\n",
    "   \n",
    "\n",
    "* List\n",
    "    - **mutalbel**  \n",
    "    - [....] sign of list\n",
    "\n",
    "\n",
    "* tuple\n",
    "     - **immutalbel**\n",
    "     - (....) sign of tuple"
   ]
  },
  {
   "cell_type": "markdown",
   "id": "40f9f380",
   "metadata": {},
   "source": [
    "##### Write a Python program to create a tuple with different data types. \n"
   ]
  },
  {
   "cell_type": "code",
   "execution_count": 123,
   "id": "de7abac6",
   "metadata": {},
   "outputs": [],
   "source": [
    "tuple_div = (1,'a',2.3,True,[1,2],(3,4))"
   ]
  },
  {
   "cell_type": "markdown",
   "id": "94c7b6dc",
   "metadata": {},
   "source": [
    "##### Write a Python program to create a tuple with numbers. \n"
   ]
  },
  {
   "cell_type": "code",
   "execution_count": 124,
   "id": "5e8e0486",
   "metadata": {},
   "outputs": [
    {
     "name": "stdout",
     "output_type": "stream",
     "text": [
      "(1, 2, 3, 4, 5, 6, 7, 8, 9)\n"
     ]
    }
   ],
   "source": [
    "t_num = tuple([i for i in range(1,10)])\n",
    "\n",
    "print(t_num)"
   ]
  },
  {
   "cell_type": "markdown",
   "id": "724ac99e",
   "metadata": {},
   "source": [
    "##### Write a Python program to convert a tuple to a string. \n"
   ]
  },
  {
   "cell_type": "code",
   "execution_count": 125,
   "id": "41f2db30",
   "metadata": {},
   "outputs": [
    {
     "name": "stdout",
     "output_type": "stream",
     "text": [
      "this is python program\n"
     ]
    }
   ],
   "source": [
    "t_str = ('this','is','python','program')\n",
    "\n",
    "s = \" \".join(t_str)\n",
    "\n",
    "print(s)"
   ]
  },
  {
   "cell_type": "markdown",
   "id": "7f6db084",
   "metadata": {},
   "source": [
    "##### Write a Python program to check whether an element exists within a tuple. \n"
   ]
  },
  {
   "cell_type": "code",
   "execution_count": 126,
   "id": "232c94a3",
   "metadata": {},
   "outputs": [
    {
     "name": "stdout",
     "output_type": "stream",
     "text": [
      "Given element is in tuple\n"
     ]
    }
   ],
   "source": [
    "tpl = (1, 2, 34.32, 'a', 'hello')\n",
    "\n",
    "element_to_find = 2\n",
    "\n",
    "if element_to_find in tpl:\n",
    "    print(\"Given element is in tuple\")\n",
    "else:\n",
    "    print(\"Given element in not in tuple\")\n",
    "\n"
   ]
  },
  {
   "cell_type": "markdown",
   "id": "b1738702",
   "metadata": {},
   "source": [
    "##### Write a Python program to find the length of a tuple. \n"
   ]
  },
  {
   "cell_type": "code",
   "execution_count": 127,
   "id": "b85d77bf",
   "metadata": {},
   "outputs": [
    {
     "name": "stdout",
     "output_type": "stream",
     "text": [
      "Lenght of tuple is :-  3\n"
     ]
    }
   ],
   "source": [
    "tpl = ('a','b','v')\n",
    "\n",
    "print(\"Lenght of tuple is :- \",len(tpl))"
   ]
  },
  {
   "cell_type": "code",
   "execution_count": null,
   "id": "1f9693d6",
   "metadata": {},
   "outputs": [],
   "source": []
  },
  {
   "cell_type": "markdown",
   "id": "e0ae3172",
   "metadata": {},
   "source": [
    "##### Write a Python program to convert a list to a tuple. \n"
   ]
  },
  {
   "cell_type": "code",
   "execution_count": 128,
   "id": "4c504c5b",
   "metadata": {},
   "outputs": [
    {
     "name": "stdout",
     "output_type": "stream",
     "text": [
      "List  :  [1, 2, 3, 4]  Type :-  <class 'list'>\n",
      "Tuple :  (1, 2, 3, 4)  Type :-  <class 'tuple'>\n"
     ]
    }
   ],
   "source": [
    "lst = [1,2,3,4]\n",
    "\n",
    "lst_to_tpl = tuple(lst)\n",
    "\n",
    "print(\"List  : \",lst,\" Type :- \",type(lst))\n",
    "print(\"Tuple : \",lst_to_tpl,\" Type :- \",type(lst_to_tpl))"
   ]
  },
  {
   "cell_type": "markdown",
   "id": "d8579c1d",
   "metadata": {},
   "source": [
    "##### Write a Python program to reverse a tuple. \n"
   ]
  },
  {
   "cell_type": "code",
   "execution_count": 129,
   "id": "6d698642",
   "metadata": {},
   "outputs": [
    {
     "ename": "SyntaxError",
     "evalue": "invalid syntax (2509869177.py, line 3)",
     "output_type": "error",
     "traceback": [
      "\u001b[1;36m  File \u001b[1;32m\"C:\\Users\\Admin.DESKTOP-VRICGRD\\AppData\\Local\\Temp\\ipykernel_9552\\2509869177.py\"\u001b[1;36m, line \u001b[1;32m3\u001b[0m\n\u001b[1;33m    rev_tpl pl\u001b[0m\n\u001b[1;37m            ^\u001b[0m\n\u001b[1;31mSyntaxError\u001b[0m\u001b[1;31m:\u001b[0m invalid syntax\n"
     ]
    }
   ],
   "source": [
    "tpl = (1,2,4,5)\n",
    "\n",
    "rev_tpl pl"
   ]
  },
  {
   "cell_type": "markdown",
   "id": "770561e1",
   "metadata": {},
   "source": [
    "##### Write a Python program to replace last value of tuples in a list. \n"
   ]
  },
  {
   "cell_type": "code",
   "execution_count": 130,
   "id": "ebe4007e",
   "metadata": {},
   "outputs": [
    {
     "name": "stdout",
     "output_type": "stream",
     "text": [
      "before :-  ('a', 'b', 'c', 'd', '4')\n",
      "after :-  ('a', 'b', 'c', 'd', 'x')\n"
     ]
    }
   ],
   "source": [
    "tpl = ('a','b','c','d','4')\n",
    "\n",
    "print(\"before :- \",tpl)\n",
    "\n",
    "ls_tpl = list(tpl)\n",
    "ls_tpl[-1] = 'x'\n",
    "tpl = tuple(ls_tpl)\n",
    "\n",
    "print(\"after :- \",tpl)"
   ]
  },
  {
   "cell_type": "markdown",
   "id": "4f9f46fa",
   "metadata": {},
   "source": [
    "##### Write a Python program to find the repeated items of a tuple. \n"
   ]
  },
  {
   "cell_type": "code",
   "execution_count": 131,
   "id": "15e120fc",
   "metadata": {},
   "outputs": [
    {
     "name": "stdout",
     "output_type": "stream",
     "text": [
      "Repeted items are  :-  [12, 3, 321]\n"
     ]
    }
   ],
   "source": [
    "tpl = (12,3,213,21,4,421,321,31,423,12,321,3,12,3)\n",
    "rep_item = []\n",
    "for item in tpl:\n",
    "    if tpl.count(item) > 1 and item not in rep_item:\n",
    "        rep_item.append(item)\n",
    "\n",
    "print('Repeted items are  :- ',rep_item)"
   ]
  },
  {
   "cell_type": "markdown",
   "id": "7214ef31",
   "metadata": {},
   "source": [
    "##### Write a Python program to remove an empty tuple(s) from a list of tuples. \n"
   ]
  },
  {
   "cell_type": "code",
   "execution_count": 132,
   "id": "34dfab35",
   "metadata": {},
   "outputs": [
    {
     "name": "stdout",
     "output_type": "stream",
     "text": [
      "Before :-  [(1, 2), (), (3, 42, 2.4), (), ('a', 's')]\n",
      "After :-  [(1, 2), (3, 42, 2.4), ('a', 's')]\n"
     ]
    }
   ],
   "source": [
    "list1 = [(1,2),(),(3,42,2.4),(),('a','s')]\n",
    "\n",
    "print(\"Before :- \",list1)\n",
    "\n",
    "for i in list1:\n",
    "    if not i:\n",
    "        list1.remove(i)\n",
    "\n",
    "print(\"After :- \",list1)"
   ]
  },
  {
   "cell_type": "markdown",
   "id": "0455c27e",
   "metadata": {},
   "source": [
    "##### Write a Python program to unzip a list of tuples into individual lists.\n"
   ]
  },
  {
   "cell_type": "code",
   "execution_count": 133,
   "id": "f49d0dec",
   "metadata": {},
   "outputs": [
    {
     "name": "stdout",
     "output_type": "stream",
     "text": [
      "[[1, 2], [], [3, 42, 2.4], [], ['a', 's']]\n"
     ]
    }
   ],
   "source": [
    "lst1 = [(1,2),(),(3,42,2.4),(),('a','s')]\n",
    "\n",
    "ls = list(map(list,lst1))\n",
    "\n",
    "print(ls)"
   ]
  },
  {
   "cell_type": "markdown",
   "id": "a31f9432",
   "metadata": {},
   "source": [
    "##### Write a Python program to convert a list of tuples into a dictionary. \n"
   ]
  },
  {
   "cell_type": "code",
   "execution_count": 134,
   "id": "d9c4101c",
   "metadata": {},
   "outputs": [
    {
     "name": "stdout",
     "output_type": "stream",
     "text": [
      "{'a': 97, 'b': 98, 'c': 99}\n"
     ]
    }
   ],
   "source": [
    "lst = [('a',97),('b',98),('c',99)]\n",
    "\n",
    "dict1 = dict(lst)\n",
    "\n",
    "print(dict1)"
   ]
  },
  {
   "cell_type": "markdown",
   "id": "3634055a",
   "metadata": {},
   "source": [
    "##### How will you create a dictionary using tuples in python? \n"
   ]
  },
  {
   "cell_type": "code",
   "execution_count": 135,
   "id": "cb785fd1",
   "metadata": {},
   "outputs": [
    {
     "data": {
      "text/plain": [
       "{'harry': 97, 'kevin': 98, 'darvin': 99}"
      ]
     },
     "execution_count": 135,
     "metadata": {},
     "output_type": "execute_result"
    }
   ],
   "source": [
    "lst = (('harry',97),('kevin',98),('darvin',99))\n",
    "\n",
    "dict1= dict(lst)\n",
    "\n",
    "dict1\n"
   ]
  },
  {
   "cell_type": "markdown",
   "id": "2485a7fc",
   "metadata": {},
   "source": [
    "##### Write a Python script to sort (ascending and descending) a dictionary by value. \n"
   ]
  },
  {
   "cell_type": "code",
   "execution_count": 136,
   "id": "8db0a2b1",
   "metadata": {},
   "outputs": [
    {
     "name": "stdout",
     "output_type": "stream",
     "text": [
      "[('a', 21), ('b', 34), ('f', 343), ('v', 45)]\n"
     ]
    }
   ],
   "source": [
    "a = [('a', 21), ('b', 34), ('v', 45), ('f', 343)]\n",
    "a.sort()\n",
    "print(a)"
   ]
  },
  {
   "cell_type": "code",
   "execution_count": 137,
   "id": "1ba7c2ba",
   "metadata": {},
   "outputs": [
    {
     "name": "stdout",
     "output_type": "stream",
     "text": [
      "{'a': 21, 'b': 34, 'v': 45, 'f': 343}\n"
     ]
    }
   ],
   "source": [
    "dict1 = {\n",
    "    'a':21,\n",
    "    'b':34,\n",
    "    'v':45,\n",
    "    'f':343\n",
    "}\n",
    "dict1.items()\n",
    "ls = []\n",
    "# method 1\n",
    "ls = list(dict1.items())\n",
    "\n",
    "ls.sort(key=lambda x:x[1])\n",
    "\n",
    "dic1_sorted = dict(ls)\n",
    "print(dic1_sorted)\n",
    "    \n"
   ]
  },
  {
   "cell_type": "markdown",
   "id": "ce34bb7e",
   "metadata": {},
   "source": [
    "##### Write a Python script to concatenate following dictionaries to create a new one. \n"
   ]
  },
  {
   "cell_type": "code",
   "execution_count": 138,
   "id": "837cf6fb",
   "metadata": {},
   "outputs": [
    {
     "name": "stdout",
     "output_type": "stream",
     "text": [
      "{'id': 1, 'name': 'haward', 'marks': {'MATHS': 20, 'SCIENCE': 30}}\n"
     ]
    }
   ],
   "source": [
    "dict_1 = { \"id\":1,\"name\": 'kevin' }\n",
    "dict_2 = { \"name\" : 'haward','marks':{\n",
    "    'MATHS':20,\n",
    "    'SCIENCE':30,\n",
    "}}\n",
    "\n",
    "d_to_l_1 = list(dict_1.items())\n",
    "d_to_l_1.extend(list(dict_2.items()))\n",
    "dict_12 = dict(d_to_l_1)\n",
    "\n",
    "print(dict_12)"
   ]
  },
  {
   "cell_type": "code",
   "execution_count": 139,
   "id": "a27c6947",
   "metadata": {},
   "outputs": [
    {
     "name": "stdout",
     "output_type": "stream",
     "text": [
      "{1: 2, 3: 4, 5: 6, 'a': 97, 'b': 32, 'd': 1}\n"
     ]
    }
   ],
   "source": [
    "\n",
    "d1 = {\n",
    "    1:2,\n",
    "    3:4,\n",
    "    5:6,\n",
    "}\n",
    "d2={\n",
    "    'a':97,\n",
    "    'b':32,\n",
    "    'd':1,\n",
    "}\n",
    "d3={}\n",
    "for i in (d1,d2):\n",
    "    d3.update(i)\n",
    "    \n",
    "print(d3)"
   ]
  },
  {
   "cell_type": "markdown",
   "id": "dbf8d76e",
   "metadata": {},
   "source": [
    "##### Write a Python script to check if a given key already exists in a dictionary. \n"
   ]
  },
  {
   "cell_type": "code",
   "execution_count": 140,
   "id": "4b48e2f5",
   "metadata": {},
   "outputs": [
    {
     "name": "stdout",
     "output_type": "stream",
     "text": [
      "key is in the dictionary \n"
     ]
    }
   ],
   "source": [
    "key = 1\n",
    "dict1 = {\n",
    "    'hello':'world',\n",
    "    1:'int',\n",
    "    'int':'-inf to +inf',\n",
    "    'python': 'iprogramming language',\n",
    "}\n",
    "\n",
    "if key in dict1:\n",
    "    print(\"key is in the dictionary \")\n",
    "else:\n",
    "    print(\"key is not in dictionary\")"
   ]
  },
  {
   "cell_type": "markdown",
   "id": "93091839",
   "metadata": {},
   "source": [
    "##### How Do You Traverse Through A Dictionary Object In Python? \n"
   ]
  },
  {
   "cell_type": "code",
   "execution_count": 141,
   "id": "7ba87d1c",
   "metadata": {},
   "outputs": [
    {
     "name": "stdout",
     "output_type": "stream",
     "text": [
      "id  :  1927322\n",
      "name  :  raily henry\n",
      "code  :  877889\n"
     ]
    }
   ],
   "source": [
    "dict1 = {\n",
    "    'id'   : '1927322',\n",
    "    'name' : 'raily henry',\n",
    "    'code' : '877889'\n",
    "}\n",
    "\n",
    "for item in dict1:\n",
    "    print( item ,\" : \",dict1[item])"
   ]
  },
  {
   "cell_type": "markdown",
   "id": "d0fc1ab1",
   "metadata": {},
   "source": [
    "##### How Do You Check The Presence Of A Key In A Dictionary? \n"
   ]
  },
  {
   "cell_type": "code",
   "execution_count": 142,
   "id": "aba4631b",
   "metadata": {},
   "outputs": [
    {
     "name": "stdout",
     "output_type": "stream",
     "text": [
      "key is in the dictionary \n"
     ]
    }
   ],
   "source": [
    "key = 1\n",
    "\n",
    "#method 1\n",
    "dict1 = {\n",
    "    'hello':'world',\n",
    "    1:'int',\n",
    "    'int':'-inf to +inf',\n",
    "    'python': 'iprogramming language',\n",
    "}\n",
    "\n",
    "if key in dict1:\n",
    "    print(\"key is in the dictionary \")\n",
    "else:\n",
    "    print(\"key is not in dictionary\")"
   ]
  },
  {
   "cell_type": "code",
   "execution_count": 143,
   "id": "d8579cb4",
   "metadata": {},
   "outputs": [
    {
     "name": "stdout",
     "output_type": "stream",
     "text": [
      "key is not in dictionary\n"
     ]
    }
   ],
   "source": [
    "# method 2\n",
    "key = 3\n",
    "dict1 = {\n",
    "    'hello':'world',\n",
    "    1:'int',\n",
    "    'int':'-inf to +inf',\n",
    "    'python': 'iprogramming language',\n",
    "}\n",
    "\n",
    "if key in list(dict1.keys()):\n",
    "    print(\"key is in the dictionary \")\n",
    "else:\n",
    "    print(\"key is not in dictionary\")"
   ]
  },
  {
   "cell_type": "code",
   "execution_count": 144,
   "id": "0e40a88c",
   "metadata": {},
   "outputs": [
    {
     "name": "stdout",
     "output_type": "stream",
     "text": [
      "key is in the dictionary \n"
     ]
    }
   ],
   "source": [
    "key = 1\n",
    "dict1 = {\n",
    "    'hello':'world',\n",
    "    1:'int',\n",
    "    'int':'-inf to +inf',\n",
    "    'python': 'iprogramming language',\n",
    "}\n",
    "\n",
    "if key in dict1:\n",
    "    print(\"key is in the dictionary \")\n",
    "else:\n",
    "    print(\"key is not in dictionary\")"
   ]
  },
  {
   "cell_type": "code",
   "execution_count": 145,
   "id": "adefa508",
   "metadata": {},
   "outputs": [
    {
     "name": "stdout",
     "output_type": "stream",
     "text": [
      "key is not in dictionary\n"
     ]
    }
   ],
   "source": [
    "key = 5\n",
    "dict1 = {\n",
    "    'hello':'world',\n",
    "    1:'int',\n",
    "    'int':'-inf to +inf',\n",
    "    'python': 'iprogramming language',\n",
    "}\n",
    "\n",
    "if dict1.get(key):\n",
    "    print(\"key is in the dictionary \")\n",
    "else:\n",
    "    print(\"key is not in dictionary\")"
   ]
  },
  {
   "cell_type": "markdown",
   "id": "e7b964e4",
   "metadata": {},
   "source": [
    "##### Write a Python script to print a dictionary where the keys are numbers between 1 and 15. \n"
   ]
  },
  {
   "cell_type": "code",
   "execution_count": 146,
   "id": "4d5db4f5",
   "metadata": {},
   "outputs": [
    {
     "data": {
      "text/plain": [
       "{1: 3.6,\n",
       " 2: 9.2,\n",
       " 3: 16.8,\n",
       " 4: 26.4,\n",
       " 5: 38.0,\n",
       " 6: 51.6,\n",
       " 7: 67.2,\n",
       " 8: 84.8,\n",
       " 9: 104.4,\n",
       " 10: 126.0,\n",
       " 11: 149.6,\n",
       " 12: 175.2,\n",
       " 13: 202.8,\n",
       " 14: 232.4}"
      ]
     },
     "execution_count": 146,
     "metadata": {},
     "output_type": "execute_result"
    }
   ],
   "source": [
    "dict_5 = {}\n",
    "\n",
    "for i in range(1,15):\n",
    "    dict_5[i] = i*2.6 + i**2\n",
    "dict_5"
   ]
  },
  {
   "cell_type": "markdown",
   "id": "05aa53ba",
   "metadata": {},
   "source": [
    "##### Write a Python program to check multiple keys exists in a dictionary \n"
   ]
  },
  {
   "cell_type": "code",
   "execution_count": 147,
   "id": "8574de16",
   "metadata": {},
   "outputs": [
    {
     "name": "stdout",
     "output_type": "stream",
     "text": [
      "No some keys are does not exist in dictionary\n"
     ]
    }
   ],
   "source": [
    "keys_toFind = ['Maharashtra', 'Gujrat','panjab']\n",
    "\n",
    "capitals={\n",
    "    \n",
    "          \"Maharashtra\"   : \"Mumbai\", \n",
    "          \"Telangana\"     : \"Hyderabad\",\n",
    "          \"Gujrat\"        : \"Gandhinagar\", \n",
    "          \"Tamilnadu\"     : \"Chennai\", \n",
    "          \"Karnataka\"     : \"Bengaluru\", \n",
    "          \"Bihar\"         : \"Patna\",\n",
    "}\n",
    "\n",
    "if set(keys_toFind).issubset(set(capitals.keys())):\n",
    "    print(\"Yes all keys are exist in dictionary\")\n",
    "else:\n",
    "    print(\"No some keys are does not exist in dictionary\")\n"
   ]
  },
  {
   "cell_type": "markdown",
   "id": "30b174cf",
   "metadata": {},
   "source": [
    "##### Write a Python script to merge two Python dictionaries \n"
   ]
  },
  {
   "cell_type": "code",
   "execution_count": 148,
   "id": "7d18d1c2",
   "metadata": {},
   "outputs": [
    {
     "name": "stdout",
     "output_type": "stream",
     "text": [
      "{'a': 100, 'b': 2, 'c': 3, 'd': 4}\n"
     ]
    }
   ],
   "source": [
    "one_dict =  {'a': 1, 'b': 2}\n",
    "two_dict =  {'a': 100, 'b': 2, 'c': 3, 'd': 4}\n",
    "\n",
    "one_dict.update(two_dict)\n",
    "\n",
    "print(one_dict)"
   ]
  },
  {
   "cell_type": "markdown",
   "id": "e5acf41f",
   "metadata": {},
   "source": [
    "##### Write a Python progr.am to map two lists into a dictionary \n"
   ]
  },
  {
   "cell_type": "code",
   "execution_count": 149,
   "id": "7219219c",
   "metadata": {},
   "outputs": [
    {
     "data": {
      "text/plain": [
       "{'id': 1, 'name': 'jenil', 'age': '20', 'marks': 83}"
      ]
     },
     "execution_count": 149,
     "metadata": {},
     "output_type": "execute_result"
    }
   ],
   "source": [
    "list_key = ['id','name','age','marks']\n",
    "list_value = [1,'jenil','20',83]\n",
    "dict_map = {}\n",
    "for key in range(len(list_key)):\n",
    "    dict_map.update({list_key[key]:list_value[key]})\n",
    "    \n",
    "dict_map\n",
    "    "
   ]
  },
  {
   "cell_type": "markdown",
   "id": "d1a233d8",
   "metadata": {},
   "source": [
    "##### Write a Python program to combine two dictionary adding values for common keys. \n",
    " \n",
    " d1 = {'a': 100, 'b': 200, 'c':300} o d2 = {'a': 300, 'b': 200,’d’:400}  \n",
    " Sample output: Counter ({'a': 400, 'b': 400,’d’: 400, 'c': 300}). \n"
   ]
  },
  {
   "cell_type": "code",
   "execution_count": 150,
   "id": "b61dbce2",
   "metadata": {},
   "outputs": [
    {
     "data": {
      "text/plain": [
       "dict_values([100, 200, 300])"
      ]
     },
     "execution_count": 150,
     "metadata": {},
     "output_type": "execute_result"
    }
   ],
   "source": [
    "d1 = {'a': 100, 'b': 200, 'c':300} \n",
    "d1.values()"
   ]
  },
  {
   "cell_type": "code",
   "execution_count": 151,
   "id": "24948e35",
   "metadata": {},
   "outputs": [
    {
     "data": {
      "text/plain": [
       "{'a': 400, 'b': 400, 'd': 400, 'c': 300}"
      ]
     },
     "execution_count": 151,
     "metadata": {},
     "output_type": "execute_result"
    }
   ],
   "source": [
    "d2 = {'a': 100, 'b': 200, 'c':300} \n",
    "d1 = {'a': 300, 'b': 200,'d':400}\n",
    "\n",
    "for item in d2:\n",
    "    if item in d1:\n",
    "        d1[item] += d2[item]\n",
    "    else:\n",
    "        d1.update({item:d2[item]})\n",
    "\n",
    "d1\n"
   ]
  },
  {
   "cell_type": "markdown",
   "id": "ef365f82",
   "metadata": {},
   "source": [
    "##### Write a Python program to print all unique values in a dictionary. \n"
   ]
  },
  {
   "cell_type": "code",
   "execution_count": 152,
   "id": "1092473f",
   "metadata": {},
   "outputs": [
    {
     "name": "stdout",
     "output_type": "stream",
     "text": [
      "Unique values are :-  [400, 300]\n"
     ]
    }
   ],
   "source": [
    "dict_3 = {'a': 400, 'b': 400, 'd': 400, 'c': 300}\n",
    "\n",
    "print(\"Unique values are :- \",list(set(dict_3.values())))\n"
   ]
  },
  {
   "cell_type": "markdown",
   "id": "d798ae23",
   "metadata": {},
   "source": [
    "##### Why Do You Use the Zip () Method in Python? \n"
   ]
  },
  {
   "cell_type": "code",
   "execution_count": 153,
   "id": "b9fba4a6",
   "metadata": {},
   "outputs": [
    {
     "name": "stdout",
     "output_type": "stream",
     "text": [
      "(1, 'a')\n",
      "(2, 'b')\n",
      "(3, 'c')\n",
      "(4, 'd')\n"
     ]
    }
   ],
   "source": [
    "# zip method gives a pair of element from given iterable \n",
    "\n",
    "# -> if we have given two iterable then zip() gives two element each time form iterabels \n",
    "# -> it will give a pairs in form of tuple\n",
    "#   example :\n",
    "a=[1,2,3,4,5]\n",
    "b=['a','b','c','d']\n",
    "\n",
    "for i in zip(a,b):\n",
    "    print(i)"
   ]
  },
  {
   "cell_type": "markdown",
   "id": "18f1e887",
   "metadata": {},
   "source": [
    "##### Write a Python program to create and display all combinations of letters, selecting each letter from a different key in a dictionary. \n",
    "Sample data: {'1': ['a','b'], '2': ['c','d']} \n",
    "\n",
    "Expected Output: \n",
    "ac ad bc bd \n"
   ]
  },
  {
   "cell_type": "code",
   "execution_count": 154,
   "id": "abe8b707",
   "metadata": {},
   "outputs": [
    {
     "data": {
      "text/plain": [
       "['ac', 'ad', 'bc', 'bd']"
      ]
     },
     "execution_count": 154,
     "metadata": {},
     "output_type": "execute_result"
    }
   ],
   "source": [
    "data = {'1': ['a','b'], '2': ['c','d']}\n",
    "\n",
    "values = list(data.values())\n",
    "output=[]\n",
    "for i in values[0]:\n",
    "    for j in values[1]:\n",
    "        output.append(i+j)\n",
    "    \n",
    "output"
   ]
  },
  {
   "cell_type": "markdown",
   "id": "c7c6d585",
   "metadata": {},
   "source": [
    "##### Write a Python program to find the highest 3 values in a dictionary \n"
   ]
  },
  {
   "cell_type": "code",
   "execution_count": 155,
   "id": "ee146115",
   "metadata": {},
   "outputs": [],
   "source": [
    " dict9 = {1: 3.6,\n",
    " 7: 67.2,\n",
    " 8: 84.8,\n",
    " 3: 16.8,\n",
    " 12: 175.2,\n",
    " 4: 26.4,\n",
    " 6: 51.6,\n",
    " 5: 38.0,\n",
    " 9: 104.4,\n",
    " 10: 126.0,\n",
    " 14: 232.4,\n",
    " 11: 149.6,\n",
    " 13: 202.8,\n",
    " 2: 9.2,\n",
    "}"
   ]
  },
  {
   "cell_type": "markdown",
   "id": "12ebe135",
   "metadata": {},
   "source": [
    "##### Write a Python program to combine values in python list of dictionaries. \n",
    "Sample data: [{'item': 'item1', 'amount': 400}, {'item': 'item2', 'amount': \n",
    "300}, o {'item': 'item1', 'amount': 750}] \n",
    "\n",
    "Expected Output:\n",
    "Counter ({'item1': 1150, 'item2': 300}) \n",
    " "
   ]
  },
  {
   "cell_type": "code",
   "execution_count": 164,
   "id": "28b850d3",
   "metadata": {},
   "outputs": [
    {
     "name": "stdout",
     "output_type": "stream",
     "text": [
      "{'item': 'item1', 'amount': 400}\n",
      "{'item': 'item2', 'amount': 300}\n",
      "{'item': 'item1', 'amount': 750}\n"
     ]
    },
    {
     "data": {
      "text/plain": [
       "{'item1': 1150, 'item2': 300}"
      ]
     },
     "execution_count": 164,
     "metadata": {},
     "output_type": "execute_result"
    }
   ],
   "source": [
    "data =  [{'item': 'item1', 'amount': 400}, {'item': 'item2', 'amount': 300},  {'item': 'item1', 'amount': 750}]\n",
    "\n",
    "op_dict={}\n",
    "\n",
    "for d in data:\n",
    "    print(d)\n",
    "    if op_dict.get(d['item']):\n",
    "        op_dict[d['item']] += d['amount']\n",
    "    else:\n",
    "        op_dict.update({d['item']:d['amount']})\n",
    "\n",
    "op_dict\n",
    "    "
   ]
  },
  {
   "cell_type": "markdown",
   "id": "a7585a80",
   "metadata": {},
   "source": [
    "##### Write a Python program to create a dictionary from a string. \n",
    "Note: Track the count of the letters from the string.\n",
    "\n",
    "Sample string: 'w3resource' \n",
    "\n",
    "Expected output: \n",
    "{'3': 1,’s’: 1, 'r': 2, 'u': 1, 'w': 1, 'c': 1, 'e': 2, 'o': 1} \n"
   ]
  },
  {
   "cell_type": "code",
   "execution_count": 165,
   "id": "de9b292e",
   "metadata": {},
   "outputs": [
    {
     "data": {
      "text/plain": [
       "{'w': 1, '3': 1, 'r': 2, 'e': 2, 's': 1, 'o': 1, 'u': 1, 'c': 1}"
      ]
     },
     "execution_count": 165,
     "metadata": {},
     "output_type": "execute_result"
    }
   ],
   "source": [
    "str1 = 'w3resource'\n",
    "dict_4 = {}\n",
    "for k in str1:\n",
    "    dict_4.update({k:str1.count(k)})\n",
    "\n",
    "dict_4\n",
    "    "
   ]
  },
  {
   "cell_type": "markdown",
   "id": "fa10ad9b",
   "metadata": {},
   "source": [
    "\n",
    "##### Write a Python function to calculate the factorial of a number (a nonnegative integer) \n"
   ]
  },
  {
   "cell_type": "code",
   "execution_count": 166,
   "id": "1488c709",
   "metadata": {},
   "outputs": [
    {
     "name": "stdout",
     "output_type": "stream",
     "text": [
      "Enter the number :- \n"
     ]
    },
    {
     "ename": "ValueError",
     "evalue": "invalid literal for int() with base 10: ''",
     "output_type": "error",
     "traceback": [
      "\u001b[1;31m---------------------------------------------------------------------------\u001b[0m",
      "\u001b[1;31mValueError\u001b[0m                                Traceback (most recent call last)",
      "\u001b[1;32m~\\AppData\\Local\\Temp\\ipykernel_9552\\224356318.py\u001b[0m in \u001b[0;36m<module>\u001b[1;34m\u001b[0m\n\u001b[0;32m      4\u001b[0m         \u001b[0mmul\u001b[0m\u001b[1;33m*=\u001b[0m\u001b[0mi\u001b[0m\u001b[1;33m\u001b[0m\u001b[1;33m\u001b[0m\u001b[0m\n\u001b[0;32m      5\u001b[0m     \u001b[1;32mreturn\u001b[0m \u001b[0mmul\u001b[0m\u001b[1;33m\u001b[0m\u001b[1;33m\u001b[0m\u001b[0m\n\u001b[1;32m----> 6\u001b[1;33m \u001b[0mn\u001b[0m \u001b[1;33m=\u001b[0m \u001b[0mint\u001b[0m\u001b[1;33m(\u001b[0m\u001b[0minput\u001b[0m\u001b[1;33m(\u001b[0m\u001b[1;34m\"Enter the number :- \"\u001b[0m\u001b[1;33m)\u001b[0m\u001b[1;33m)\u001b[0m\u001b[1;33m\u001b[0m\u001b[1;33m\u001b[0m\u001b[0m\n\u001b[0m\u001b[0;32m      7\u001b[0m \u001b[0mprint\u001b[0m\u001b[1;33m(\u001b[0m\u001b[0mn\u001b[0m\u001b[1;33m,\u001b[0m\u001b[1;34m\"! :-\"\u001b[0m\u001b[1;33m,\u001b[0m\u001b[0mfactorial\u001b[0m\u001b[1;33m(\u001b[0m\u001b[0mn\u001b[0m\u001b[1;33m)\u001b[0m\u001b[1;33m)\u001b[0m\u001b[1;33m\u001b[0m\u001b[1;33m\u001b[0m\u001b[0m\n",
      "\u001b[1;31mValueError\u001b[0m: invalid literal for int() with base 10: ''"
     ]
    }
   ],
   "source": [
    "def factorial(n:int) -> int :\n",
    "    mul = 1\n",
    "    for i in range(1,n+1):\n",
    "        mul*=i\n",
    "    return mul\n",
    "n = int(input(\"Enter the number :- \"))\n",
    "print(n,\"! :-\",factorial(n))"
   ]
  },
  {
   "cell_type": "markdown",
   "id": "9de895ab",
   "metadata": {},
   "source": [
    "##### Write a Python function to check whether a number is in a given range\n"
   ]
  },
  {
   "cell_type": "code",
   "execution_count": 167,
   "id": "ffff913c",
   "metadata": {},
   "outputs": [
    {
     "data": {
      "text/plain": [
       "True"
      ]
     },
     "execution_count": 167,
     "metadata": {},
     "output_type": "execute_result"
    }
   ],
   "source": [
    "def In_range(value,lower,upper):\n",
    "    return value in range(lower,upper)\n",
    "\n",
    "In_range(9,0,10)"
   ]
  },
  {
   "cell_type": "markdown",
   "id": "01eda0b8",
   "metadata": {},
   "source": [
    "##### Write a Python function to check whether a number is perfect or not. \n"
   ]
  },
  {
   "cell_type": "code",
   "execution_count": 169,
   "id": "05567f19",
   "metadata": {},
   "outputs": [
    {
     "name": "stdout",
     "output_type": "stream",
     "text": [
      "Enter the number :- 986\n",
      "986  is Not perfect number\n"
     ]
    }
   ],
   "source": [
    "def is_perfect_number(number):\n",
    "    i =2\n",
    "    res=0\n",
    "    while i < number:\n",
    "        if number%i==0:\n",
    "            res += i\n",
    "        i+=1\n",
    "\n",
    "    return number == res+1\n",
    "\n",
    "num = int(input(\"Enter the number :- \"))\n",
    "\n",
    "if is_perfect_number(num):\n",
    "    print(num,\"is perfact number\")\n",
    "else:\n",
    "    print(num,\" is Not perfect number\")\n",
    "            \n",
    "    \n",
    "    "
   ]
  },
  {
   "cell_type": "markdown",
   "id": "8576e8da",
   "metadata": {},
   "source": [
    "##### Write a Python function that checks whether a passed string is palindrome or not \n"
   ]
  },
  {
   "cell_type": "code",
   "execution_count": 175,
   "id": "6c6c427e",
   "metadata": {},
   "outputs": [
    {
     "name": "stdout",
     "output_type": "stream",
     "text": [
      "Enter the string to check :- hannah\n",
      "\n",
      "\n",
      " -->  Given string  'hannah'  is pelindrom\n"
     ]
    }
   ],
   "source": [
    "def check_pelindrom(str_check):\n",
    "    if len(str_check) == 0:\n",
    "        return False\n",
    "    return str_check == str_check[::-1]\n",
    "\n",
    "string = input(\"Enter the string to check :- \")\n",
    "\n",
    "if check_pelindrom(string):\n",
    "    print(\"\\n\\n -->  Given string  '%s'  is pelindrom\"%(string))\n",
    "else:\n",
    "    print(\"\\n\\n -->  Given string    '%s'    is not pelindrom\"%(string))\n"
   ]
  },
  {
   "cell_type": "markdown",
   "id": "7fc7eda9",
   "metadata": {},
   "source": [
    "##### How Many Basic Types Of Functions Are Available In Python? \n"
   ]
  },
  {
   "cell_type": "code",
   "execution_count": 176,
   "id": "507fbb94",
   "metadata": {},
   "outputs": [],
   "source": [
    "# In python 3 type of functions are available\n",
    "\n",
    "# 1. user-define functions\n",
    "# 2. built-in functions\n",
    "# 3. anonymous functions\n"
   ]
  },
  {
   "cell_type": "markdown",
   "id": "c2ca1b1e",
   "metadata": {},
   "source": [
    "##### How can you pick a random item from a list or tuple? \n"
   ]
  },
  {
   "cell_type": "code",
   "execution_count": 177,
   "id": "15e286fa",
   "metadata": {},
   "outputs": [
    {
     "name": "stdout",
     "output_type": "stream",
     "text": [
      "harsh\n"
     ]
    }
   ],
   "source": [
    "import random as rd\n",
    "lst = ['kevin','nayan','harsh','rahul']\n",
    "\n",
    "print(rd.choice(lst))"
   ]
  },
  {
   "cell_type": "markdown",
   "id": "07bafe33",
   "metadata": {},
   "source": [
    "##### How can you pick a random item from a range? \n"
   ]
  },
  {
   "cell_type": "code",
   "execution_count": 178,
   "id": "f4312b20",
   "metadata": {},
   "outputs": [
    {
     "data": {
      "text/plain": [
       "97"
      ]
     },
     "execution_count": 178,
     "metadata": {},
     "output_type": "execute_result"
    }
   ],
   "source": [
    "rd.randrange(0,100)"
   ]
  },
  {
   "cell_type": "markdown",
   "id": "b4fd8e17",
   "metadata": {},
   "source": [
    "##### How can you get a random number in python? \n"
   ]
  },
  {
   "cell_type": "code",
   "execution_count": 179,
   "id": "f308775b",
   "metadata": {},
   "outputs": [
    {
     "data": {
      "text/plain": [
       "0.4053538134626232"
      ]
     },
     "execution_count": 179,
     "metadata": {},
     "output_type": "execute_result"
    }
   ],
   "source": [
    "rd.random()"
   ]
  },
  {
   "cell_type": "markdown",
   "id": "ba2534ca",
   "metadata": {},
   "source": [
    "##### How will you set the starting value in generating random numbers? \n"
   ]
  },
  {
   "cell_type": "code",
   "execution_count": 180,
   "id": "3d01188c",
   "metadata": {},
   "outputs": [
    {
     "data": {
      "text/plain": [
       "5"
      ]
     },
     "execution_count": 180,
     "metadata": {},
     "output_type": "execute_result"
    }
   ],
   "source": [
    "rd.randint(3,10)"
   ]
  },
  {
   "cell_type": "markdown",
   "id": "4cabea0c",
   "metadata": {},
   "source": [
    "##### How will you randomizes the items of a list in place? \n"
   ]
  },
  {
   "cell_type": "code",
   "execution_count": null,
   "id": "994a1ec5",
   "metadata": {},
   "outputs": [],
   "source": []
  },
  {
   "cell_type": "markdown",
   "id": "53e35680",
   "metadata": {},
   "source": [
    "##### Write a Python program to read a random line from a file. \n"
   ]
  },
  {
   "cell_type": "code",
   "execution_count": 181,
   "id": "c6e4594c",
   "metadata": {},
   "outputs": [
    {
     "name": "stdout",
     "output_type": "stream",
     "text": [
      "random line is :- \n",
      "\n",
      "He rejected many of the conventional beliefs and values of his time, including organized religion and the concept of private property. \n",
      "\n"
     ]
    }
   ],
   "source": [
    "import random as rd\n",
    "file =  open('file.txt','r')\n",
    "\n",
    "lines = file.readlines()\n",
    "no_of_lines = len(lines)\n",
    "\n",
    "random_line = rd.randint(0,no_of_lines-1)\n",
    "print(\"random line is :- \\n\")\n",
    "print(lines[random_line])\n"
   ]
  },
  {
   "cell_type": "markdown",
   "id": "8ccec605",
   "metadata": {},
   "source": [
    "##### Write a Python program to convert degree to radian \n"
   ]
  },
  {
   "cell_type": "code",
   "execution_count": 186,
   "id": "d90397d9",
   "metadata": {},
   "outputs": [
    {
     "name": "stdout",
     "output_type": "stream",
     "text": [
      "Enter the degree :- 90\n",
      "90.0 ° =  1.5707963267948966 rad\n"
     ]
    }
   ],
   "source": [
    "import math\n",
    "degree = float(input(\"Enter the degree :- \"))\n",
    "\n",
    "radian =  degree * (math.pi / 180)\n",
    "\n",
    "print(degree,\"° = \",radian,'rad')"
   ]
  },
  {
   "cell_type": "markdown",
   "id": "98c73432",
   "metadata": {},
   "source": [
    "##### Write a Python program to calculate the area of a trapezoid \n"
   ]
  },
  {
   "cell_type": "code",
   "execution_count": 189,
   "id": "e126b5ed",
   "metadata": {},
   "outputs": [
    {
     "name": "stdout",
     "output_type": "stream",
     "text": [
      "enter value of :- \n",
      "a : 6\n",
      "b : 3\n",
      "h : 5\n",
      "Area of trapezoid is :-  22.5\n"
     ]
    }
   ],
   "source": [
    "print(\"enter value of :- \")\n",
    "base_a = int(input(\"a : \"))\n",
    "base_b = int(input(\"b : \"))\n",
    "height = int(input(\"h : \"))\n",
    "\n",
    "are_trapezoid = ( ( base_a + base_b ) / 2 ) * height\n",
    "\n",
    "print(\"Area of trapezoid is :- \",are_trapezoid)"
   ]
  },
  {
   "cell_type": "markdown",
   "id": "88ccf6e3",
   "metadata": {},
   "source": [
    "##### Write a Python program to calculate the area of a parallelogram \n"
   ]
  },
  {
   "cell_type": "code",
   "execution_count": 190,
   "id": "3244800c",
   "metadata": {},
   "outputs": [
    {
     "name": "stdout",
     "output_type": "stream",
     "text": [
      "base : 20\n",
      "height : 5\n",
      "Area of parallelogram of given parameters:-  100\n"
     ]
    }
   ],
   "source": [
    "base = int(input(\"base : \"))\n",
    "height = int(input(\"height : \"))\n",
    "\n",
    "area_parallelogram = base * height\n",
    "\n",
    "print(\"Area of parallelogram of given parameters:- \",area_parallelogram)\n"
   ]
  },
  {
   "cell_type": "markdown",
   "id": "ffcf4c78",
   "metadata": {},
   "source": [
    "##### Write a Python program to calculate surface volume and area of a cylinder \n"
   ]
  },
  {
   "cell_type": "code",
   "execution_count": 192,
   "id": "231917f7",
   "metadata": {},
   "outputs": [
    {
     "name": "stdout",
     "output_type": "stream",
     "text": [
      "Give detail about cylinder\n",
      "Enter  radius :- (in cm)20\n",
      "Enter  Height :- (in cm)25\n",
      "\n",
      "volumne :-  31400.0 cm^2\n",
      "Area :-  5652.0 cm^3\n"
     ]
    }
   ],
   "source": [
    "print(\"Give detail about cylinder\")\n",
    "radius = float(input(\"Enter  radius :- (in cm)\"))\n",
    "height = float(input(\"Enter  Height :- (in cm)\"))\n",
    "\n",
    "pi = 3.14\n",
    "\n",
    "volume_cylinder =  pi * (radius ** 2) * height\n",
    "\n",
    "area_cylinder = (2 * pi * radius) * (radius + height)\n",
    "\n",
    "print(\"\\nvolumne :- \",volume_cylinder,\"cm^2\")\n",
    "print(\"Area :- \",area_cylinder,'cm^3')"
   ]
  },
  {
   "cell_type": "markdown",
   "id": "97b50f08",
   "metadata": {},
   "source": [
    "##### Write a Python program to returns sum of all divisors of a number \n"
   ]
  },
  {
   "cell_type": "code",
   "execution_count": 193,
   "id": "c1d11269",
   "metadata": {},
   "outputs": [
    {
     "name": "stdout",
     "output_type": "stream",
     "text": [
      "Enter the number :- 65\n",
      "Sum of all divisor is :-  19\n"
     ]
    }
   ],
   "source": [
    "num = int(input(\"Enter the number :- \"))\n",
    "\n",
    "sum_devisor = 1\n",
    "i=2\n",
    "while i < num:\n",
    "    \n",
    "    if num%i == 0:\n",
    "        sum_devisor += i\n",
    "    i+=1\n",
    "\n",
    "print(\"Sum of all divisor is :- \",sum_devisor)\n"
   ]
  },
  {
   "cell_type": "markdown",
   "id": "0fe508a4",
   "metadata": {},
   "source": [
    "##### Write a Python program to find the maximum and minimum numbers from the specified decimal numbers.\n"
   ]
  },
  {
   "cell_type": "code",
   "execution_count": 196,
   "id": "df4cc7fe",
   "metadata": {},
   "outputs": [
    {
     "name": "stdout",
     "output_type": "stream",
     "text": [
      "Enter the numbers ( by space saperated) :- 25 36 95 683.6 365.25 77 3658 -51 23\n"
     ]
    }
   ],
   "source": [
    "numbers = list(map(float,input(\"Enter the numbers ( by space saperated) :- \").split()))\n"
   ]
  },
  {
   "cell_type": "code",
   "execution_count": 197,
   "id": "763bdbdf",
   "metadata": {},
   "outputs": [
    {
     "name": "stdout",
     "output_type": "stream",
     "text": [
      "Maximum numbes form numbers :-  3658.0\n",
      "Minimum numbers from numbers :-  -51.0\n"
     ]
    }
   ],
   "source": [
    "\n",
    "print(\"Maximum numbes form numbers :- \",max(numbers))\n",
    "\n",
    "print(\"Minimum numbers from numbers :- \",min(numbers))"
   ]
  },
  {
   "cell_type": "code",
   "execution_count": 198,
   "id": "ef35cbf9",
   "metadata": {},
   "outputs": [
    {
     "name": "stdout",
     "output_type": "stream",
     "text": [
      "Maximum numbes form numbers :-  3658.0\n",
      "Minimum numbers from numbers :-  -51.0\n"
     ]
    }
   ],
   "source": [
    "Max,Min = numbers[0],numbers[0]\n",
    "\n",
    "for number in numbers:\n",
    "    if number > Max:\n",
    "        Max = number\n",
    "    elif number < Min:\n",
    "        Min = number\n",
    "    else: pass\n",
    "    \n",
    "print(\"Maximum numbes form numbers :- \",Max)\n",
    "\n",
    "print(\"Minimum numbers from numbers :- \",Min)"
   ]
  },
  {
   "cell_type": "code",
   "execution_count": null,
   "id": "b843c7a3",
   "metadata": {},
   "outputs": [],
   "source": []
  },
  {
   "cell_type": "code",
   "execution_count": null,
   "id": "6539c34c",
   "metadata": {},
   "outputs": [],
   "source": []
  }
 ],
 "metadata": {
  "kernelspec": {
   "display_name": "Python 3 (ipykernel)",
   "language": "python",
   "name": "python3"
  },
  "language_info": {
   "codemirror_mode": {
    "name": "ipython",
    "version": 3
   },
   "file_extension": ".py",
   "mimetype": "text/x-python",
   "name": "python",
   "nbconvert_exporter": "python",
   "pygments_lexer": "ipython3",
   "version": "3.9.13"
  }
 },
 "nbformat": 4,
 "nbformat_minor": 5
}
